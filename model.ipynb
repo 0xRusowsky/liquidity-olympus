{
  "cells": [
    {
      "cell_type": "markdown",
      "metadata": {},
      "source": []
    },
    {
      "cell_type": "code",
      "execution_count": null,
      "metadata": {
        "id": "Bw4vaq8NZUMg"
      },
      "outputs": [],
      "source": [
        "import pandas as pd\n",
        "import numpy as np\n",
        "import random\n",
        "\n",
        "from plotly.subplots import make_subplots\n",
        "import plotly.express as px\n",
        "pd.options.plotting.backend = \"plotly\"\n",
        "\n",
        "from src.utils import ModelParams, Day, short_sin, short_cos, long_sin, long_cos\n",
        "from src.init_functions import initial_params"
      ]
    },
    {
      "cell_type": "markdown",
      "metadata": {
        "id": "VS6dSZGtZUMo"
      },
      "source": [
        "### __SET SCENARIO PARAMETERS__"
      ]
    },
    {
      "cell_type": "code",
      "execution_count": null,
      "metadata": {
        "id": "xkIg-YQDZUMq"
      },
      "outputs": [],
      "source": [
        "# Simulate scenario with market operations\n",
        "\n",
        "netflow_type, historical_net_flows, price, target, supply, reserves, liq_usd = initial_params(\n",
        "    netflow_type = 'cycles' # determines the netflow types. Either 'historical', 'random', or 'cycles' (sin/cos waves)\n",
        "    ,initial_date = '2021/12/18' # determines the initial date to account for 'historical' netflows and initial params. (example: '2021/12/18')\n",
        "    ,initial_supply = 25000000\n",
        "    ,initial_reserves = 340000000\n",
        "    ,initial_liq_usd = 70000000\n",
        "    ,initial_price = 30\n",
        "    ,initial_target = 30\n",
        ")\n",
        "\n",
        "params = ModelParams(seed = 33 # seed number so all the simulations use the same randomness\n",
        "    ,horizon = 365  # simulation timespan.\n",
        "    ,short_cycle = 30  # short market cycle duration.\n",
        "    ,cycle_reweights = 1  # reweights per short market cycle.\n",
        "    ,long_cycle = 730  # long market cycle duration.\n",
        "    ,long_sin_offset = 2  # demand function offset.\n",
        "    ,long_cos_offset = 0  # supply function offset.\n",
        "    ,supply_amplitude = 0.8  # supply function amplitude.\n",
        "\n",
        "    # Initial Parameters\n",
        "    ,initial_supply = supply, initial_reserves = reserves, initial_liq_usd = liq_usd, initial_price = price, initial_target = target, target_price_function = 'price_moving_avg', netflow_type = netflow_type\n",
        "\n",
        "    ,demand_factor = 0.008  # % of OHM supply expected to drive market demand.\n",
        "    ,supply_factor = -0.008  # % of OHM supply expected to drive market sell preasure.\n",
        "    ,arb_factor = 0  # initial arb factor\n",
        "    ,release_capture = 0  # % of reweight taken immediately by the market. --> I think it doesn't make sense anymore, that's why I set it to 0.\n",
        "\n",
        "    ,max_liq_ratio = 0.33  # liquidityUSD : reservesUSD ratio --> 1:1 = 0.5\n",
        "    ,min_premium_target = 3  # minimum premium to keep adding liquidity as supply grows.\n",
        "    ,max_outflow_rate = 0.0033 # max % of reservesUSD that can be released on a single day\n",
        "    ,reserve_change_speed=1  # directly related to the speed at which reserves are released/captured by the treasury. The higher the slower.\n",
        "\n",
        "    ,ask_factor = 0.033  # % of floating supply that the treasury can deploy when price is trading above the upper target.\n",
        "    ,bid_factor = 0.033  # % of the reserves that the treasury can deploy when price is trading below the lower target.\n",
        "    ,cushion_factor = 0.33  # the percentage of a bid or ask to offer as a cushion.\n",
        "    ,target_ma = 30  # length of the price target moving average (in days).\n",
        "    ,lower_wall = 0.25  # determines lower wall price target at x% below the target price.\n",
        "    ,upper_wall = 0.25  # determines upper wall price target at x% above the target price.\n",
        "    ,lower_cushion = 0.175  # determines lower cushion price target at x% below the target price.\n",
        "    ,upper_cushion = 0.175  # determines upper cushion price target at x% above the target price.\n",
        "    ,reinstate_window = 7 # the window of time (in days) to reinstate a bid or ask.\n",
        "    ,min_counter_reinstate = 6 # number of days within the reinstate window that conditions are true to reinstate a bid or ask.\n",
        ")\n",
        "\n",
        "lags = {\n",
        "    'price': (0, {1: params.initial_price}), 'target': (0, {1: params.initial_target}), 'avg': (0, {1: params.initial_target})\n",
        "}\n",
        "\n",
        "arbs = {}\n",
        "\n",
        "random.seed(params.seed)\n",
        "\n",
        "if historical_net_flows is None or i-2 > len(historical_net_flows):\n",
        "    simulation = {'day1': Day(params=params, prev_arbs=arbs, prev_lags=lags)}\n",
        "else:\n",
        "    simulation = {'day1': Day(params=params, prev_arbs=arbs, prev_lags=lags, historical_net_flows=historical_net_flows[0])}\n",
        "\n",
        "for i in range (2, params.horizon):\n",
        "    if historical_net_flows is None or i-2 > len(historical_net_flows):\n",
        "        simulation[f'day{i}'] = Day(params=params, prev_arbs=arbs, prev_lags=lags, prev_day=simulation[f'day{i-1}'])\n",
        "    else:\n",
        "        simulation[f'day{i}'] = Day(params=params, prev_arbs=arbs, prev_lags=lags, prev_day=simulation[f'day{i-1}'], historical_net_flows=historical_net_flows[i-2])"
      ]
    },
    {
      "cell_type": "code",
      "execution_count": null,
      "metadata": {},
      "outputs": [],
      "source": [
        "# Simulate scenario with market operations - DO NOT MODIFY ANYTHING\n",
        "params_without = ModelParams(seed = params.seed # seed number so all the simulations use the same randomness\n",
        "    ,horizon = params.horizon  # simulation timespan.\n",
        "    ,short_cycle = params.short_cycle  # short market cycle duration.\n",
        "    ,cycle_reweights = params.cycle_reweights  # reweights per short market cycle.\n",
        "    ,long_cycle = params.long_cycle  # long market cycle duration.\n",
        "    ,long_sin_offset = params.long_sin_offset  # demand function offset.\n",
        "    ,long_cos_offset = params.long_cos_offset  # supply function offset.\n",
        "    ,supply_amplitude = params.supply_amplitude  # supply function amplitude.\n",
        "    \n",
        "    # Initial Parameters\n",
        "    ,initial_supply = params.initial_supply, initial_reserves = params.initial_reserves, initial_liq_usd = params.initial_liq_usd, initial_price = params.initial_price, initial_target = params.initial_target, target_price_function = params.target_price_function\n",
        "\n",
        "    ,netflow_type = params.netflow_type # determines the inflow types. Either 'historical', 'random', or 'cycles' (sin/cos waves)\n",
        "    ,demand_factor = params.demand_factor  # % of OHM supply expected to drive market demand.\n",
        "    ,supply_factor = params.supply_factor  # % of OHM supply expected to drive market sell preasure.\n",
        "    ,arb_factor = params.arb_factor  # initial arb factor\n",
        "    ,release_capture = params.release_capture  # % of reweight taken immediately by the market. --> I think it doesn't make sense anymore, that's why I set it to 0.\n",
        "\n",
        "    ,max_liq_ratio = params.max_liq_ratio  # liquidityUSD : reservesUSD ratio --> 1:1 = 0.5\n",
        "    ,min_premium_target = params.min_premium_target  # minimum premium to keep adding liquidity as supply grows.\n",
        "    ,max_outflow_rate = params.max_outflow_rate # max % of reservesUSD that can be released on a single day\n",
        "    ,reserve_change_speed=params.reserve_change_speed  # directly related to the speed at which reserves are released/captured by the treasury. The higher the slower.\n",
        "\n",
        "    ,ask_factor = 0  # % of floating supply that the treasury can deploy when price is trading above the upper target.\n",
        "    ,bid_factor = 0  # % of the reserves that the treasury can deploy when price is trading below the lower target.\n",
        "    ,cushion_factor = 0  # the percentage of a bid or ask to offer as a cushion.\n",
        "    ,target_ma = params.target_ma  # length of the price target moving average (in days).\n",
        "    ,lower_wall = params.lower_wall  # determines lower wall price target at x% below the target price.\n",
        "    ,upper_wall = params.upper_wall  # determines upper wall price target at x% above the target price.\n",
        "    ,lower_cushion = params.lower_cushion  # determines lower cushion price target at x% below the target price.\n",
        "    ,upper_cushion = params.upper_cushion  # determines upper cushion price target at x% above the target price.\n",
        "    ,reinstate_window = params.reinstate_window # the window of time (in days) to reinstate a bid or ask.\n",
        "    ,min_counter_reinstate = params.min_counter_reinstate # number of days within the reinstate window that conditions are true to reinstate a bid or ask.\n",
        ")\n",
        "\n",
        "lags_without = {\n",
        "    'price': (0, {1: params_without.initial_price}), 'target': (0, {1: params_without.initial_target}), 'avg': (0, {1: params_without.initial_target})\n",
        "}\n",
        "\n",
        "arbs_without = {}\n",
        "\n",
        "random.seed(params_without.seed)\n",
        "simulation_without = {'day1': Day(params=params_without, prev_arbs=arbs, prev_lags=lags_without)}\n",
        "\n",
        "if historical_net_flows is None or i-2 > len(historical_net_flows):\n",
        "    simulation_without = {'day1': Day(params=params_without, prev_arbs=arbs, prev_lags=lags_without)}\n",
        "else:\n",
        "    simulation_without = {'day1': Day(params=params_without, prev_arbs=arbs, prev_lags=lags_without, historical_net_flows=historical_net_flows[0])}\n",
        "\n",
        "for i in range (2, params_without.horizon):\n",
        "    if historical_net_flows is None or i-2 > len(historical_net_flows):\n",
        "        simulation_without[f'day{i}'] = Day(params=params_without, prev_arbs=arbs_without, prev_lags=lags_without, prev_day=simulation_without[f'day{i-1}'])\n",
        "    else:\n",
        "        simulation_without[f'day{i}'] = Day(params=params_without, prev_arbs=arbs_without, prev_lags=lags_without, prev_day=simulation_without[f'day{i-1}'], historical_net_flows=historical_net_flows[i-2])"
      ]
    },
    {
      "cell_type": "markdown",
      "metadata": {
        "id": "vj5S_rtFZUMr"
      },
      "source": [
        "### __PLOT RESULTS__"
      ]
    },
    {
      "cell_type": "code",
      "execution_count": null,
      "metadata": {
        "id": "eY055aDLZUMs"
      },
      "outputs": [],
      "source": [
        "# Protocol variables\n",
        "df1 = pd.DataFrame(columns = ['Type', 'NetFlow', 'Price', 'RealTarget', 'LowerTargetCushion', 'UpperTargetCushion', 'LowerTargetWall', 'UpperTargetWall', 'LiqUSD', 'LiqOHM', 'poolK', 'Reserves', 'ReserveChange', 'ReservesIN', 'ReservesOUT', 'TradedOHM', 'Treasury', 'Supply', 'MCap', 'FloatingSupply', 'FloatingMCap', 'LiqRatio (Liq/Treasury)', 'LiqRatio (Liq/Reserves)', 'ReserveRatio', 'LiqFloatingMCRatio', 'FloatingMCTreasuryPremium', 'CumPurchasedOHM', 'CumBurntOHM']) \n",
        "for day, data in simulation.items():\n",
        "    df1.loc[day] = ['Mint&Sync + TreasuryRebalance + MarketOps', float(data.net_flow), float(data.price), float(data.ma_target), float(data.lower_target_cushion), float(data.upper_target_cushion), float(data.lower_target_wall), float(data.upper_target_wall), float(data.liq_usd), float(data.liq_ohm), float(data.k), float(data.reserves), float(100*data.reserves/data.prev_reserves), float(data.reserves_in), float(data.reserves_out), float(data.ohm_traded), float(data.treasury), float(data.supply), float(data.mcap), float(data.floating_supply), float(data.floating_mcap), float(data.liq_ratio), float(data.liq_usd/data.reserves), float(data.reserves_ratio), float(data.liq_fmcap_ratio), float(data.fmcap_treasury_ratio), float(data.cum_ohm_purchased), float(data.cum_ohm_burnt)]\n",
        "\n",
        "df2 = pd.DataFrame(columns = ['Type', 'NetFlow', 'Price', 'RealTarget', 'LowerTargetCushion', 'UpperTargetCushion', 'LowerTargetWall', 'UpperTargetWall', 'LiqUSD', 'LiqOHM', 'poolK', 'Reserves', 'ReserveChange', 'ReservesIN', 'ReservesOUT', 'TradedOHM', 'Treasury', 'Supply', 'MCap', 'FloatingSupply', 'FloatingMCap', 'LiqRatio (Liq/Treasury)', 'LiqRatio (Liq/Reserves)', 'ReserveRatio', 'LiqFloatingMCRatio', 'FloatingMCTreasuryPremium', 'CumPurchasedOHM', 'CumBurntOHM']) \n",
        "for day, data in simulation_without.items():\n",
        "        df2.loc[day] = ['Mint&Sync + TreasuryRebalance (withoutMartOps)', float(data.net_flow), float(data.price), float(data.ma_target), np.nan, np.nan, np.nan, np.nan, float(data.liq_usd), float(data.liq_ohm), float(data.k), float(data.reserves), float(100*data.reserves/data.prev_reserves), float(data.reserves_in), float(data.reserves_out), float(data.ohm_traded), float(data.treasury), float(data.supply), float(data.mcap), float(data.floating_supply), float(data.floating_mcap), float(data.liq_ratio), float(data.liq_usd/data.reserves), float(data.reserves_ratio), float(data.liq_fmcap_ratio), float(data.fmcap_treasury_ratio), float(data.cum_ohm_purchased), float(data.cum_ohm_burnt)]\n",
        "df=pd.concat([df1, df2])\n",
        "\n",
        "# Guidance variables\n",
        "guidance_df = pd.DataFrame(columns = ['BidCapacity', 'AskCapacity', 'BidCapacityCushion', 'AskCapacityCushion', 'BidCapacityTargetCushion', 'AskCapacityTargetCushion', 'BidCapacityTarget', 'AskCapacityTarget', 'TradedOHM', 'ReservesOUT', 'AskCount', 'BidCount']) \n",
        "for day, data in simulation.items():\n",
        "    guidance_df.loc[day] = [data.bid_capacity, data.ask_capacity, data.bid_capacity_cushion, data.ask_capacity_cushion, data.bid_capacity_target_cushion, data.ask_capacity_target_cushion, data.bid_capacity_target, data.ask_capacity_target, data.ohm_traded, data.reserves_out, data.control_ask, data.control_bid]\n",
        "\n",
        "# Market dynamics variables\n",
        "market_df = pd.DataFrame(columns = ['MarketDemand', 'MarketSupply', 'NetTotal'])\n",
        "for day, data in simulation.items():\n",
        "    #market_df.loc[day] = [data.market_demand, data.market_supply, data.arb_factor, data.arb_demand, data.arb_supply, data.unwind_demand, data.unwind_supply, data.total_demand, data.total_supply, data.total_net, data.net_arb]\n",
        "    market_df.loc[day] = [data.market_demand, data.market_supply, data.total_net]\n"
      ]
    },
    {
      "cell_type": "code",
      "execution_count": null,
      "metadata": {},
      "outputs": [],
      "source": [
        "# Plot multivariable charts - Comparison vs without market operations\n",
        "\n",
        "fig = df[['NetFlow', 'LiqUSD', 'Reserves', 'Treasury', 'Type']].plot(facet_col='Type', facet_col_wrap=2)\n",
        "fig.layout.update(xaxis=dict(showgrid=False), yaxis=dict(showgrid=True), xaxis2=dict(showgrid=False), yaxis2=dict(showgrid=True))\n",
        "fig.for_each_annotation(lambda a: a.update(text=a.text.split(\"=\")[-1]))\n",
        "for i in range (params.short_cycle, params.horizon, params.short_cycle):\n",
        "    fig.add_vline(x=i, line_width=1, line_color=\"white\", layer='below')\n",
        "fig.show()\n",
        "\n",
        "\n",
        "fig1 = df[['MCap','FloatingMCap', 'LiqUSD', 'Type']].plot(facet_col='Type', facet_col_wrap=2)\n",
        "fig1.layout.update(xaxis=dict(showgrid=False), yaxis=dict(showgrid=True), xaxis2=dict(showgrid=False), yaxis2=dict(showgrid=True))\n",
        "fig1.for_each_annotation(lambda a: a.update(text=a.text.split(\"=\")[-1]))\n",
        "for i in range (params.short_cycle, params.horizon, params.short_cycle):\n",
        "    fig1.add_vline(x=i, line_width=1, line_color=\"white\", layer='below')\n",
        "fig1.show()\n",
        "\n",
        "\n",
        "fig2 = df[['Price','RealTarget', 'LowerTargetWall', 'UpperTargetWall', 'LowerTargetCushion', 'UpperTargetCushion', 'Type']].plot(facet_col='Type', facet_col_wrap=2)\n",
        "fig2.layout.update(xaxis=dict(showgrid=False), yaxis=dict(showgrid=True), xaxis2=dict(showgrid=False), yaxis2=dict(showgrid=True))\n",
        "fig2.for_each_annotation(lambda a: a.update(text=a.text.split(\"=\")[-1]))\n",
        "for i in range (params.short_cycle, params.horizon, params.short_cycle):\n",
        "    fig2.add_vline(x=i, line_width=1, line_color=\"white\", layer='below')\n",
        "fig2.show()\n",
        "\n",
        "\n",
        "fig3 = df[['Supply','FloatingSupply', 'Type']].plot(facet_col='Type', facet_col_wrap=2)\n",
        "fig3.layout.update(xaxis=dict(showgrid=False), yaxis=dict(showgrid=True), xaxis2=dict(showgrid=False), yaxis2=dict(showgrid=True))\n",
        "fig3.for_each_annotation(lambda a: a.update(text=a.text.split(\"=\")[-1]))\n",
        "for i in range (params.short_cycle, params.horizon, params.short_cycle):\n",
        "    fig3.add_vline(x=i, line_width=1, line_color=\"white\", layer='below')\n",
        "fig3.show()\n",
        "\n",
        "\n",
        "fig3b = df[['CumBurntOHM', 'CumPurchasedOHM', 'Type']].plot(facet_col='Type', facet_col_wrap=2)\n",
        "fig3b.layout.update(xaxis=dict(showgrid=False), yaxis=dict(showgrid=True), xaxis2=dict(showgrid=False), yaxis2=dict(showgrid=True))\n",
        "fig3b.for_each_annotation(lambda a: a.update(text=a.text.split(\"=\")[-1]))\n",
        "for i in range (params.short_cycle, params.horizon, params.short_cycle):\n",
        "    fig3b.add_vline(x=i, line_width=1, line_color=\"white\", layer='below')\n",
        "fig3b.show()\n"
      ]
    },
    {
      "cell_type": "code",
      "execution_count": null,
      "metadata": {},
      "outputs": [],
      "source": [
        "# Plot multivariable charts\n",
        "\n",
        "fig2b = df1[['Price','RealTarget', 'LowerTargetWall', 'UpperTargetWall', 'LowerTargetCushion', 'UpperTargetCushion']].plot()\n",
        "fig2b.layout.update(xaxis=dict(showgrid=False), yaxis=dict(showgrid=False))\n",
        "for i in range (params.short_cycle, params.horizon, params.short_cycle):\n",
        "    fig2b.add_vline(x=i, line_width=1, line_color=\"white\", layer='below')\n",
        "fig2b.show()\n",
        "\n",
        "\n",
        "fig4 = guidance_df[['BidCapacity', 'BidCapacityTarget', 'BidCapacityCushion', 'BidCapacityTargetCushion']].plot()\n",
        "fig4.layout.update(xaxis=dict(showgrid=False), yaxis=dict(showgrid=False))\n",
        "for i in range (params.short_cycle, params.horizon, params.short_cycle):\n",
        "    fig4.add_vline(x=i, line_width=1, line_color=\"white\", layer='below')\n",
        "fig4.show()\n",
        "\n",
        "\n",
        "fig4b = guidance_df[['BidCount']].plot()\n",
        "fig4b.layout.update(xaxis=dict(showgrid=False), yaxis=dict(showgrid=False))\n",
        "for i in range (params.short_cycle, params.horizon, params.short_cycle):\n",
        "    fig4b.add_vline(x=i, line_width=1, line_color=\"white\", layer='below')\n",
        "    fig4b.add_hline(y=params.min_counter_reinstate, line_width=0.5, line_dash=\"dash\", line_color=\"grey\")\n",
        "#fig4b.show()\n",
        "\n",
        "\n",
        "fig2b.show()\n",
        "fig4 = guidance_df[['AskCapacity', 'AskCapacityTarget', 'AskCapacityCushion', 'AskCapacityTargetCushion']].plot()\n",
        "fig4.layout.update(xaxis=dict(showgrid=False), yaxis=dict(showgrid=False))\n",
        "for i in range (params.short_cycle, params.horizon, params.short_cycle):\n",
        "    fig4.add_vline(x=i, line_width=1, line_color=\"white\", layer='below')\n",
        "fig4.show()\n",
        "\n",
        "fig4b = guidance_df[['AskCount']].plot()\n",
        "fig4b.layout.update(xaxis=dict(showgrid=False), yaxis=dict(showgrid=False))\n",
        "for i in range (params.short_cycle, params.horizon, params.short_cycle):\n",
        "    fig4b.add_vline(x=i, line_width=1, line_color=\"white\", layer='below')\n",
        "    fig4b.add_hline(y=params.min_counter_reinstate, line_width=0.5, line_dash=\"dash\", line_color=\"grey\")\n",
        "#fig4b.show()\n",
        "\n",
        "if params.netflow_type != 'historical':\n",
        "    fig5 = market_df[['MarketDemand', 'MarketSupply']].plot()\n",
        "    fig5.layout.update(xaxis=dict(showgrid=False), yaxis=dict(showgrid=False))\n",
        "    for i in range (params.short_cycle, params.horizon, params.short_cycle):\n",
        "        fig5.add_vline(x=i, line_width=1, line_color=\"white\", layer='below')\n",
        "    #fig5.show()"
      ]
    },
    {
      "cell_type": "code",
      "execution_count": null,
      "metadata": {
        "id": "fb54IdNpZUMt"
      },
      "outputs": [],
      "source": [
        "# Plot batch1\n",
        "for col in df1.columns:\n",
        "    if col in ('NetFlow', 'LiqRatio (Liq/Treasury)', 'LiqRatio (Liq/Reserves)', 'LiqFloatingMCRatio', 'FloatingMCTreasuryPremium'):\n",
        "        fig = df1.plot(x=df1.index, y=df1[col])\n",
        "        fig.layout.update(xaxis=dict(showgrid=False), yaxis=dict(showgrid=False))\n",
        "        for i in range (params.short_cycle, params.horizon, params.short_cycle):\n",
        "            fig.add_vline(x=i, line_width=1, line_color=\"white\", layer='below')\n",
        "        if col == 'LiqRatio (Liq/Treasury)':\n",
        "            fig.add_hline(y=params.max_liq_ratio, line_width=1, line_dash=\"dash\", line_color=\"grey\")\n",
        "        if col == 'LiqRatio (Liq/Reserves)':\n",
        "            fig.add_hline(y=params.max_liq_ratio/(1-params.max_liq_ratio), line_width=1, line_dash=\"dash\", line_color=\"grey\")\n",
        "        if col == 'FloatingMCTreasuryPremium':\n",
        "            fig.add_hline(y=params.min_premium_target, line_width=1, line_dash=\"dash\", line_color=\"grey\")\n",
        "        fig.show()"
      ]
    },
    {
      "cell_type": "code",
      "execution_count": null,
      "metadata": {
        "id": "MPeMGZUDZUMu"
      },
      "outputs": [],
      "source": [
        "# Plot batch2\n",
        "for col in df1.columns:\n",
        "    if col in ('Reserves', 'LiqUSD', 'LiqOHM', 'ReservesIN', 'ReservesOUT', 'Treasury'):\n",
        "        fig = df1.plot(x=df1.index, y=df1[col])\n",
        "        fig.layout.update(xaxis=dict(showgrid=False), yaxis=dict(showgrid=False))\n",
        "        for i in range (params.short_cycle, params.horizon, params.short_cycle):\n",
        "            fig.add_vline(x=i, line_width=1, line_color=\"white\", layer='below')\n",
        "        #fig.show()"
      ]
    },
    {
      "cell_type": "code",
      "execution_count": null,
      "metadata": {
        "id": "iQEVLWKpZUMu"
      },
      "outputs": [],
      "source": [
        "# Plot batch3\n",
        "for col in df1.columns:\n",
        "    if col in ('Supply', 'FloatingSupply', 'CumPurchasedOHM'):\n",
        "        fig = df1.plot(x=df1.index, y=df1[col])\n",
        "        fig.layout.update(xaxis=dict(showgrid=False), yaxis=dict(showgrid=False))\n",
        "        for i in range (params.short_cycle, params.horizon, params.short_cycle):\n",
        "            fig.add_vline(x=i, line_width=1, line_color=\"white\", layer='below')\n",
        "        #fig.show()"
      ]
    },
    {
      "cell_type": "code",
      "execution_count": null,
      "metadata": {
        "id": "lb73mGk_ZUMw"
      },
      "outputs": [],
      "source": [
        "# Market cycles (sin and cos waves)\n",
        "df2 = pd.DataFrame(columns = ['shortSin', 'shortCos', 'longSin', 'longCos']) \n",
        "for i in range (2, 10*params.horizon):\n",
        "    df2.loc[f'day{i}'] = [short_sin(i, params.short_cycle), short_cos(i, params.short_cycle), long_sin(i, params.long_cycle, params.long_sin_offset), long_cos(i, params.long_cycle, params.long_cos_offset, params.supply_amplitude)]\n",
        "\n",
        "#df2.plot(y=df2.columns)"
      ]
    }
  ],
  "metadata": {
    "colab": {
      "name": "model.ipynb",
      "provenance": []
    },
    "interpreter": {
      "hash": "a72b40c70d7a73f2be7a5bdf63aca9b9239f053821967849109ae8d4f480f962"
    },
    "kernelspec": {
      "display_name": "Python 3.9.10 64-bit (windows store)",
      "language": "python",
      "name": "python3"
    },
    "language_info": {
      "codemirror_mode": {
        "name": "ipython",
        "version": 3
      },
      "file_extension": ".py",
      "mimetype": "text/x-python",
      "name": "python",
      "nbconvert_exporter": "python",
      "pygments_lexer": "ipython3",
      "version": "3.9.12"
    },
    "orig_nbformat": 4
  },
  "nbformat": 4,
  "nbformat_minor": 0
}
