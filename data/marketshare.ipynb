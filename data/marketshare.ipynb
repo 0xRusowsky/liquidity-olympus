{
 "cells": [
  {
   "cell_type": "code",
   "execution_count": 3,
   "metadata": {},
   "outputs": [],
   "source": [
    "import os\n",
    "import json\n",
    "import time\n",
    "import datetime\n",
    "import requests\n",
    "\n",
    "import schedule\n",
    "from web3 import Web3\n",
    "\n",
    "from apiclient import discovery\n",
    "from google.oauth2 import service_account\n",
    "from pycoingecko import CoinGeckoAPI\n"
   ]
  },
  {
   "cell_type": "code",
   "execution_count": 6,
   "metadata": {},
   "outputs": [],
   "source": [
    "headers = {\n",
    "    'accept': '*/*',\n",
    "}\n",
    "\n",
    "total_tvl = {}\n",
    "for dex in ['uniswap', 'sushiswap', 'balancer', 'curve', 'trader-joe', 'spookyswap', 'solidly']:\n",
    "    response = requests.get(f'https://api.llama.fi/protocol/{dex}', headers=headers)\n",
    "    r = response.json()\n",
    "    dex_tvl = {}\n",
    "    for chain in r[\"chainTvls\"]:\n",
    "        tvl = {}\n",
    "        if chain in ['Ethereum', 'Avalanche', 'Arbitrum', 'Polygon', 'Fantom']:\n",
    "            for info in r[\"chainTvls\"][chain]['tvl']:\n",
    "                day, usd = datetime.datetime.utcfromtimestamp(info['date']).strftime('%Y-%m-%d'), info['totalLiquidityUSD']\n",
    "                if day in tvl:\n",
    "                    tvl[day]=tvl[day] + usd\n",
    "                else:\n",
    "                    tvl[day]=usd\n",
    "            dex_tvl[chain] = tvl\n",
    "    total_tvl[dex] = dex_tvl"
   ]
  },
  {
   "cell_type": "code",
   "execution_count": 18,
   "metadata": {},
   "outputs": [],
   "source": [
    "sheets_values = []\n",
    "for dex_name, dex_info in total_tvl.items():\n",
    "    for chain_name, chain_info in dex_info.items():\n",
    "        for day, tvl in chain_info.items():\n",
    "            sheets_values.append([dex_name, chain_name, day, tvl])"
   ]
  },
  {
   "cell_type": "code",
   "execution_count": 21,
   "metadata": {},
   "outputs": [],
   "source": [
    "def check_refresh(spreadsheet_id, sheet, range_name):\n",
    "    result = sheet.values().get(spreadsheetId=spreadsheet_id, range=range_name).execute()\n",
    "    return result.get('values',[])[0][0], result.get('values',[])[1][0]\n",
    "\n",
    "\n",
    "scopes = [\"https://www.googleapis.com/auth/spreadsheets\"]\n",
    "secret_file = os.path.join(os.getcwd(), 'client_secret.json')\n",
    "spreadsheet_id = \"1cTYr0Kimk2O29t136BaKaePqqMEsb4xTojdTsMBZf3A\"\n",
    "#os.environ['LIQUIDITY_SPREADSHEET_ID']"
   ]
  },
  {
   "cell_type": "code",
   "execution_count": 24,
   "metadata": {},
   "outputs": [],
   "source": [
    "try:    \n",
    "    credentials = service_account.Credentials.from_service_account_file(secret_file, scopes=scopes)\n",
    "    service = discovery.build('sheets', 'v4', credentials=credentials)\n",
    "    sheet = service.spreadsheets()\n",
    "\n",
    "    data = {'values' : sheets_values}\n",
    "    sheet.values().update(spreadsheetId=spreadsheet_id, body=data, range=f'TVL!B2:E{len(sheets_values)+1}', valueInputOption='USER_ENTERED').execute()\n",
    "\n",
    "except OSError as e:\n",
    "    print (e)"
   ]
  },
  {
   "cell_type": "code",
   "execution_count": null,
   "metadata": {},
   "outputs": [],
   "source": [
    "def run_graph_query(graph, query):\n",
    "    request = requests.post(graph, json={'query': query})\n",
    "    if request.status_code == 200:\n",
    "        return request.json()\n",
    "    else:\n",
    "        raise Exception('Query failed. return code is {}.      {}'.format(request.status_code, query))\n",
    "\n",
    "lp_pairs_query = \"\"\"\n",
    "{\n",
    "  lpPairs(first: 1000) {\n",
    "    id\n",
    "    name\n",
    "  }\n",
    "}\n",
    "\"\"\"\n",
    "\n",
    "endpoints = [\n",
    "    'https://api.thegraph.com/subgraphs/name/drondin/olympus-liquidity-ethereum',\n",
    "    'https://api.thegraph.com/subgraphs/name/drondin/olympus-liquidity-avalanche'\n",
    "]\n",
    "\n",
    "liq = {}\n",
    "\n",
    "for endpoint in endpoints:\n",
    "  lp_pairs = run_graph_query(endpoint, lp_pairs_query)\n",
    "\n",
    "  for lp in lp_pairs[\"data\"][\"lpPairs\"]:\n",
    "    \n",
    "    pair_volume_query = \"\"\"\n",
    "    {\n",
    "      dailyVolumes(orderBy: timestamp, orderDirection:desc, first:30) {\n",
    "        volume\n",
    "        timestamp\n",
    "        lp {\n",
    "          name\n",
    "          liquidity\n",
    "        }\n",
    "      }\n",
    "    }\n",
    "    \"\"\"\n",
    "    pair_volume_daily = run_graph_query(endpoint, pair_volume_query)\n",
    "\n",
    "    lp_volume = 0\n",
    "    lp_liq_sum = 0\n",
    "    lp_liq_max = 0\n",
    "\n",
    "    for day in pair_volume_daily[\"data\"][\"dailyVolumes\"]:\n",
    "      lp_volume += float(day[\"volume\"])\n",
    "      lp_liq_sum += float(day[\"lp\"][\"liquidity\"])\n",
    "      lp_liq_max = max(float(day[\"lp\"][\"liquidity\"]), lp_liq_max)\n",
    "      print(lp['name'], lp['id'], datetime.datetime.utcfromtimestamp(int(day['timestamp'])).strftime('%Y-%m-%d'), float(day[\"lp\"][\"liquidity\"]))"
   ]
  }
 ],
 "metadata": {
  "interpreter": {
   "hash": "a72b40c70d7a73f2be7a5bdf63aca9b9239f053821967849109ae8d4f480f962"
  },
  "kernelspec": {
   "display_name": "Python 3.9.10 64-bit (windows store)",
   "language": "python",
   "name": "python3"
  },
  "language_info": {
   "codemirror_mode": {
    "name": "ipython",
    "version": 3
   },
   "file_extension": ".py",
   "mimetype": "text/x-python",
   "name": "python",
   "nbconvert_exporter": "python",
   "pygments_lexer": "ipython3",
   "version": "3.9.10"
  },
  "orig_nbformat": 4
 },
 "nbformat": 4,
 "nbformat_minor": 2
}
